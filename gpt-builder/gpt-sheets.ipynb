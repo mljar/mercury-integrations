{
 "cells": [
  {
   "cell_type": "code",
   "execution_count": 1,
   "id": "14247bcd-ef57-4eba-99b6-5351f07747da",
   "metadata": {},
   "outputs": [],
   "source": [
    "import gspread\n",
    "import mercury as mr"
   ]
  },
  {
   "cell_type": "code",
   "execution_count": 2,
   "id": "3be7c4f5-da38-42e2-8b18-7cd6bd6501d5",
   "metadata": {},
   "outputs": [],
   "source": [
    "gc = gspread.service_account(\"sheets-credentials.json\")"
   ]
  },
  {
   "cell_type": "code",
   "execution_count": 3,
   "id": "bd515c87-421e-49d5-ad6a-e0b134c1a346",
   "metadata": {},
   "outputs": [],
   "source": [
    "sh = gc.open(\"chat-gpt-builder\")"
   ]
  },
  {
   "cell_type": "code",
   "execution_count": 4,
   "id": "b31865da-8374-4740-a031-a5ee3ca10336",
   "metadata": {},
   "outputs": [
    {
     "data": {
      "application/mercury+json": "{\n    \"widget\": \"Select\",\n    \"value\": \"list\",\n    \"choices\": [\n        \"list\",\n        \"update\"\n    ],\n    \"label\": \"Select action\",\n    \"model_id\": \"1d28dbf51aa24aba94ac401cd3ae2eb0\",\n    \"code_uid\": \"Select.0.50.104.1.action-rande4db2075\",\n    \"url_key\": \"action\",\n    \"disabled\": false,\n    \"hidden\": false\n}",
      "application/vnd.jupyter.widget-view+json": {
       "model_id": "1d28dbf51aa24aba94ac401cd3ae2eb0",
       "version_major": 2,
       "version_minor": 0
      },
      "text/plain": [
       "mercury.Select"
      ]
     },
     "metadata": {},
     "output_type": "display_data"
    }
   ],
   "source": [
    "action = mr.Select(label=\"Select action\", value=\"list\", choices=[\"list\", \"update\"], url_key=\"action\")"
   ]
  },
  {
   "cell_type": "code",
   "execution_count": 5,
   "id": "a90a0ba5-90c5-43c7-ba05-15e895e74149",
   "metadata": {},
   "outputs": [
    {
     "data": {
      "application/mercury+json": "{\n    \"widget\": \"Text\",\n    \"value\": \"\",\n    \"sanitize\": true,\n    \"rows\": 1,\n    \"label\": \"Update cell in A1 notation\",\n    \"model_id\": \"921c173d8aad45afa3b3779320541223\",\n    \"code_uid\": \"Text.0.50.78.1.cell-rand5cfbca83\",\n    \"url_key\": \"cell\",\n    \"disabled\": false,\n    \"hidden\": false\n}",
      "application/vnd.jupyter.widget-view+json": {
       "model_id": "921c173d8aad45afa3b3779320541223",
       "version_major": 2,
       "version_minor": 0
      },
      "text/plain": [
       "mercury.Text"
      ]
     },
     "metadata": {},
     "output_type": "display_data"
    }
   ],
   "source": [
    "update_cell = mr.Text(label=\"Update cell in A1 notation\", value=\"\", url_key=\"cell\")"
   ]
  },
  {
   "cell_type": "code",
   "execution_count": 6,
   "id": "f0e48841-16b8-410c-927a-e2c157f891ad",
   "metadata": {},
   "outputs": [
    {
     "data": {
      "application/mercury+json": "{\n    \"widget\": \"Text\",\n    \"value\": \"\",\n    \"sanitize\": true,\n    \"rows\": 1,\n    \"label\": \"Cell value\",\n    \"model_id\": \"57c04bc35f594ffcb658aca3456cb3f2\",\n    \"code_uid\": \"Text.0.50.78.1.new_value-rande0f1919a\",\n    \"url_key\": \"new_value\",\n    \"disabled\": false,\n    \"hidden\": false\n}",
      "application/vnd.jupyter.widget-view+json": {
       "model_id": "57c04bc35f594ffcb658aca3456cb3f2",
       "version_major": 2,
       "version_minor": 0
      },
      "text/plain": [
       "mercury.Text"
      ]
     },
     "metadata": {},
     "output_type": "display_data"
    }
   ],
   "source": [
    "cell_value = mr.Text(label=\"Cell value\", value=\"\", url_key=\"new_value\")"
   ]
  },
  {
   "cell_type": "code",
   "execution_count": 7,
   "id": "cc7cd9e7-68dc-42d4-982c-cb27ead09394",
   "metadata": {},
   "outputs": [
    {
     "data": {
      "text/html": [
       "<style>.renderjson a              { text-decoration: none; }\n",
       ".renderjson .disclosure    { color: grey; font-size: 125%; }\n",
       ".renderjson .syntax        { color: grey; }\n",
       ".renderjson .string        { color: #fe46a5; }\n",
       ".renderjson .number        { color: #0f9b8e; }\n",
       ".renderjson .boolean       { color: black; }\n",
       ".renderjson .key           { color: #2684ff; }\n",
       ".renderjson .keyword       { color: gray; }\n",
       ".renderjson .object.syntax { color: gray; }\n",
       ".renderjson .array.syntax  { color: gray; }</style><div id=\"c0e0700a-c29e-45ce-85e8-bcc3eb21f8a9\"></div>"
      ],
      "text/plain": [
       "<IPython.core.display.HTML object>"
      ]
     },
     "metadata": {},
     "output_type": "display_data"
    },
    {
     "data": {
      "text/html": [
       "<script>var renderjson=function(){var t=function(){for(var t=[];arguments.length;)t.push(n(s(Array.prototype.shift.call(arguments)),o(Array.prototype.shift.call(arguments))));return t},n=function(){for(var t=Array.prototype.shift.call(arguments),e=0;e<arguments.length;e++)arguments[e].constructor==Array?n.apply(this,[t].concat(arguments[e])):t.appendChild(arguments[e]);return t},e=function(t,n){return t.insertBefore(n,t.firstChild),t},r=function(t,n){var e=n||Object.keys(t);for(var r in e)if(Object.hasOwnProperty.call(t,e[r]))return!1;return!0},o=function(t){return document.createTextNode(t)},s=function(t){var n=document.createElement(\"span\");return t&&(n.className=t),n},l=function(t,n,e){var r=document.createElement(\"a\");return n&&(r.className=n),r.appendChild(o(t)),r.href=\"#\",r.onclick=function(t){return e(),t&&t.stopPropagation(),!1},r};function a(i,c,u,p,y){var _=u?\"\":c,f=function(r,a,i,c,u){var f,g=s(c),h=function(){f||n(g.parentNode,f=e(u(),l(y.hide,\"disclosure\",(function(){f.style.display=\"none\",g.style.display=\"inline\"})))),f.style.display=\"inline\",g.style.display=\"none\"};n(g,l(y.show,\"disclosure\",h),t(c+\" syntax\",r),l(a,null,h),t(c+\" syntax\",i));var d=n(s(),o(_.slice(0,-1)),g);return p>0&&\"string\"!=c&&h(),d};return null===i?t(null,_,\"keyword\",\"null\"):void 0===i?t(null,_,\"keyword\",\"undefined\"):\"string\"==typeof i&&i.length>y.max_string_length?f('\"',i.substr(0,y.max_string_length)+\" ...\",'\"',\"string\",(function(){return n(s(\"string\"),t(null,_,\"string\",JSON.stringify(i)))})):\"object\"!=typeof i||[Number,String,Boolean,Date].indexOf(i.constructor)>=0?t(null,_,typeof i,JSON.stringify(i)):i.constructor==Array?0==i.length?t(null,_,\"array syntax\",\"[]\"):f(\"[\",y.collapse_msg(i.length),\"]\",\"array\",(function(){for(var e=n(s(\"array\"),t(\"array syntax\",\"[\",null,\"\\n\")),r=0;r<i.length;r++)n(e,a(y.replacer.call(i,r,i[r]),c+\"    \",!1,p-1,y),r!=i.length-1?t(\"syntax\",\",\"):[],o(\"\\n\"));return n(e,t(null,c,\"array syntax\",\"]\")),e})):r(i,y.property_list)?t(null,_,\"object syntax\",\"{}\"):f(\"{\",y.collapse_msg(Object.keys(i).length),\"}\",\"object\",(function(){var e=n(s(\"object\"),t(\"object syntax\",\"{\",null,\"\\n\"));for(var r in i)var l=r;var u=y.property_list||Object.keys(i);for(var _ in y.sort_objects&&(u=u.sort()),u){(r=u[_])in i&&n(e,t(null,c+\"    \",\"key\",'\"'+r+'\"',\"object syntax\",\": \"),a(y.replacer.call(i,r,i[r]),c+\"    \",!0,p-1,y),r!=l?t(\"syntax\",\",\"):[],o(\"\\n\"))}return n(e,t(null,c,\"object syntax\",\"}\")),e}))}var i=function t(e){var r=new Object(t.options);r.replacer=\"function\"==typeof r.replacer?r.replacer:function(t,n){return n};var o=n(document.createElement(\"pre\"),a(e,\"\",!1,r.show_to_level,r));return o.className=\"renderjson\",o};return i.set_icons=function(t,n){return i.options.show=t,i.options.hide=n,i},i.set_show_to_level=function(t){return i.options.show_to_level=\"string\"==typeof t&&\"all\"===t.toLowerCase()?Number.MAX_VALUE:t,i},i.set_max_string_length=function(t){return i.options.max_string_length=\"string\"==typeof t&&\"none\"===t.toLowerCase()?Number.MAX_VALUE:t,i},i.set_sort_objects=function(t){return i.options.sort_objects=t,i},i.set_replacer=function(t){return i.options.replacer=t,i},i.set_collapse_msg=function(t){return i.options.collapse_msg=t,i},i.set_property_list=function(t){return i.options.property_list=t,i},i.set_show_by_default=function(t){return i.options.show_to_level=t?Number.MAX_VALUE:0,i},i.options={},i.set_icons(\"⊕\",\"⊖\"),i.set_show_by_default(!1),i.set_sort_objects(!1),i.set_max_string_length(\"none\"),i.set_replacer(void 0),i.set_property_list(void 0),i.set_collapse_msg((function(t){return t+\" item\"+(1==t?\"\":\"s\")})),i}(); renderjson.set_show_to_level(4); document.getElementById(\"c0e0700a-c29e-45ce-85e8-bcc3eb21f8a9\").appendChild(renderjson({\"sheet_data\": [{\"Question\": \"What is Machine Learning?\", \"Answer\": \"\", \"Answer_cell\": \"B2\"}, {\"Question\": \"What is Decision Tree?\", \"Answer\": \"\", \"Answer_cell\": \"B3\"}, {\"Question\": \"What is Random Forest?\", \"Answer\": \"\", \"Answer_cell\": \"B4\"}]}))</script>"
      ],
      "text/plain": [
       "<IPython.core.display.HTML object>"
      ]
     },
     "metadata": {},
     "output_type": "display_data"
    },
    {
     "data": {
      "application/mercury+json": "{\n    \"widget\": \"APIResponse\",\n    \"value\": \"{\\\"sheet_data\\\": [{\\\"Question\\\": \\\"What is Machine Learning?\\\", \\\"Answer\\\": \\\"\\\", \\\"Answer_cell\\\": \\\"B2\\\"}, {\\\"Question\\\": \\\"What is Decision Tree?\\\", \\\"Answer\\\": \\\"\\\", \\\"Answer_cell\\\": \\\"B3\\\"}, {\\\"Question\\\": \\\"What is Random Forest?\\\", \\\"Answer\\\": \\\"\\\", \\\"Answer_cell\\\": \\\"B4\\\"}]}\",\n    \"model_id\": \"APIResponse.0.50.27.4-rand5eb66e4a\",\n    \"code_uid\": \"APIResponse.0.50.27.4-rand5eb66e4a\"\n}",
      "text/plain": [
       "API Response"
      ]
     },
     "metadata": {},
     "output_type": "display_data"
    }
   ],
   "source": [
    "if action.value == \"list\":\n",
    "    list_of_dicts = sh.sheet1.get_all_records()\n",
    "    data = [{**l, \"Answer_cell\": f\"B{i+2}\"} for i, l in enumerate(list_of_dicts)]\n",
    "    response = mr.APIResponse({\"sheet_data\": data})"
   ]
  },
  {
   "cell_type": "code",
   "execution_count": 8,
   "id": "2a23d362-a892-49a2-9199-bde279e656d6",
   "metadata": {},
   "outputs": [],
   "source": [
    "if action.value == \"update\":\n",
    "    try:\n",
    "        sh_response = sh.sheet1.update_acell(update_cell.value, cell_value.value)\n",
    "        response = mr.APIResponse({\"message\": \"Cell updated\"})\n",
    "    except Exception as e:\n",
    "        response = mr.APIResponse({\"error\": str(e)})\n",
    "    "
   ]
  },
  {
   "cell_type": "code",
   "execution_count": null,
   "id": "824e58b2-d0f7-4ff8-a501-a3795a089002",
   "metadata": {},
   "outputs": [],
   "source": []
  }
 ],
 "metadata": {
  "kernelspec": {
   "display_name": "mdemo",
   "language": "python",
   "name": "mdemo"
  },
  "language_info": {
   "codemirror_mode": {
    "name": "ipython",
    "version": 3
   },
   "file_extension": ".py",
   "mimetype": "text/x-python",
   "name": "python",
   "nbconvert_exporter": "python",
   "pygments_lexer": "ipython3",
   "version": "3.8.10"
  }
 },
 "nbformat": 4,
 "nbformat_minor": 5
}
