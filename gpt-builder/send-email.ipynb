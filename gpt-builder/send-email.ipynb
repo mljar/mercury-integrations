{
 "cells": [
  {
   "cell_type": "code",
   "execution_count": 1,
   "id": "d2407e94-5986-4571-b7ed-c555b96da129",
   "metadata": {},
   "outputs": [],
   "source": [
    "import os\n",
    "import smtplib\n",
    "from email.message import EmailMessage w\n",
    "import mercury as mr"
   ]
  },
  {
   "cell_type": "code",
   "execution_count": 2,
   "id": "a3445d0c-051b-4e13-9692-ae503fff5a0a",
   "metadata": {},
   "outputs": [],
   "source": [
    "user = os.environ.get(\"EMAIL_ADDRESS\")\n",
    "password = os.environ.get(\"EMAIL_PASSWORD\")\n",
    "smtp_address = os.environ.get(\"SMTP_ADDRESS\", \"smtp.gmail.com\")\n",
    "smtp_port = int(os.environ.get(\"SMTP_PORT\", 465))"
   ]
  },
  {
   "cell_type": "code",
   "execution_count": 3,
   "id": "3991fd00-a45d-42cc-9288-9aec30b1fc3d",
   "metadata": {},
   "outputs": [
    {
     "data": {
      "application/mercury+json": "{\n    \"widget\": \"App\",\n    \"title\": \"Send email\",\n    \"description\": \"Send email, please provide to whom address, subject and message body\",\n    \"show_code\": false,\n    \"show_prompt\": false,\n    \"output\": \"app\",\n    \"schedule\": \"\",\n    \"notify\": \"{}\",\n    \"continuous_update\": true,\n    \"static_notebook\": false,\n    \"show_sidebar\": true,\n    \"full_screen\": true,\n    \"allow_download\": true,\n    \"allow_share\": true,\n    \"stop_on_error\": false,\n    \"model_id\": \"mercury-app\",\n    \"code_uid\": \"App.0.50.110.1-rand708f5ca4\"\n}",
      "text/html": [
       "<h3>Mercury Application</h3><small>This output won't appear in the web app.</small>"
      ],
      "text/plain": [
       "mercury.App"
      ]
     },
     "metadata": {},
     "output_type": "display_data"
    }
   ],
   "source": [
    "app = mr.App(title=\"Send email\", description=\"Send email, please provide to whom address, subject and message body\")"
   ]
  },
  {
   "cell_type": "code",
   "execution_count": 4,
   "id": "fc6343dc-2a10-41a5-80c3-c85b3f8f4605",
   "metadata": {},
   "outputs": [
    {
     "data": {
      "application/mercury+json": "{\n    \"widget\": \"Text\",\n    \"value\": \"\",\n    \"sanitize\": true,\n    \"rows\": 1,\n    \"label\": \"To whom send\",\n    \"model_id\": \"c10f401c04244c3cbb13b5fe60283e4e\",\n    \"code_uid\": \"Text.0.50.78.1.to_whom-randc0088c71\",\n    \"url_key\": \"to_whom\",\n    \"disabled\": false,\n    \"hidden\": false\n}",
      "application/vnd.jupyter.widget-view+json": {
       "model_id": "c10f401c04244c3cbb13b5fe60283e4e",
       "version_major": 2,
       "version_minor": 0
      },
      "text/plain": [
       "mercury.Text"
      ]
     },
     "metadata": {},
     "output_type": "display_data"
    }
   ],
   "source": [
    "to_whom = mr.Text(label=\"To whom send\", value=\"\", url_key=\"to_whom\")"
   ]
  },
  {
   "cell_type": "code",
   "execution_count": 5,
   "id": "a60a0311-6057-4f3c-813e-c904de4b025f",
   "metadata": {},
   "outputs": [
    {
     "data": {
      "application/mercury+json": "{\n    \"widget\": \"Text\",\n    \"value\": \"text\",\n    \"sanitize\": true,\n    \"rows\": 1,\n    \"label\": \"Email subject\",\n    \"model_id\": \"601a3d7c949c4b8eb18f5791fd02801c\",\n    \"code_uid\": \"Text.0.50.78.1.subject-randbd36256e\",\n    \"url_key\": \"subject\",\n    \"disabled\": false,\n    \"hidden\": false\n}",
      "application/vnd.jupyter.widget-view+json": {
       "model_id": "601a3d7c949c4b8eb18f5791fd02801c",
       "version_major": 2,
       "version_minor": 0
      },
      "text/plain": [
       "mercury.Text"
      ]
     },
     "metadata": {},
     "output_type": "display_data"
    }
   ],
   "source": [
    "subject = mr.Text(label=\"Email subject\", url_key=\"subject\")"
   ]
  },
  {
   "cell_type": "code",
   "execution_count": 6,
   "id": "c4088b5b-761e-40b3-be78-25ed28f73729",
   "metadata": {},
   "outputs": [
    {
     "data": {
      "application/mercury+json": "{\n    \"widget\": \"Text\",\n    \"value\": \"text\",\n    \"sanitize\": true,\n    \"rows\": 5,\n    \"label\": \"Email body\",\n    \"model_id\": \"11ba8b31775644c4b0e1f707a66b9615\",\n    \"code_uid\": \"Text.0.50.78.1.body-randa3ddcb75\",\n    \"url_key\": \"body\",\n    \"disabled\": false,\n    \"hidden\": false\n}",
      "application/vnd.jupyter.widget-view+json": {
       "model_id": "11ba8b31775644c4b0e1f707a66b9615",
       "version_major": 2,
       "version_minor": 0
      },
      "text/plain": [
       "mercury.Text"
      ]
     },
     "metadata": {},
     "output_type": "display_data"
    }
   ],
   "source": [
    "body = mr.Text(label=\"Email body\", rows=5, url_key=\"body\")"
   ]
  },
  {
   "cell_type": "code",
   "execution_count": 7,
   "id": "83341673-e013-404b-8d2d-12c15cae0b55",
   "metadata": {},
   "outputs": [],
   "source": [
    "msg = EmailMessage()\n",
    "msg['To'] = to_whom.value\n",
    "msg['From'] = user\n",
    "msg['Subject'] = subject.value\n",
    "msg.set_content(body.value)"
   ]
  },
  {
   "cell_type": "code",
   "execution_count": 8,
   "id": "93114d2d-3eb6-4a1a-a064-836d1972c2a2",
   "metadata": {},
   "outputs": [],
   "source": [
    "# send email\n",
    "if to_whom.value != \"\":\n",
    "    with smtplib.SMTP_SSL(smtp_address, smtp_port) as smtp:\n",
    "        smtp.login(user, password)\n",
    "        smtp.send_message(msg)"
   ]
  },
  {
   "cell_type": "code",
   "execution_count": 9,
   "id": "2e13ab11-56aa-418c-99cc-ab0b37f46caf",
   "metadata": {},
   "outputs": [
    {
     "data": {
      "text/html": [
       "<style>.renderjson a              { text-decoration: none; }\n",
       ".renderjson .disclosure    { color: grey; font-size: 125%; }\n",
       ".renderjson .syntax        { color: grey; }\n",
       ".renderjson .string        { color: #fe46a5; }\n",
       ".renderjson .number        { color: #0f9b8e; }\n",
       ".renderjson .boolean       { color: black; }\n",
       ".renderjson .key           { color: #2684ff; }\n",
       ".renderjson .keyword       { color: gray; }\n",
       ".renderjson .object.syntax { color: gray; }\n",
       ".renderjson .array.syntax  { color: gray; }</style><div id=\"ea438825-910c-458a-9a49-a4214f7b6a9b\"></div>"
      ],
      "text/plain": [
       "<IPython.core.display.HTML object>"
      ]
     },
     "metadata": {},
     "output_type": "display_data"
    },
    {
     "data": {
      "text/html": [
       "<script>var renderjson=function(){var t=function(){for(var t=[];arguments.length;)t.push(n(s(Array.prototype.shift.call(arguments)),o(Array.prototype.shift.call(arguments))));return t},n=function(){for(var t=Array.prototype.shift.call(arguments),e=0;e<arguments.length;e++)arguments[e].constructor==Array?n.apply(this,[t].concat(arguments[e])):t.appendChild(arguments[e]);return t},e=function(t,n){return t.insertBefore(n,t.firstChild),t},r=function(t,n){var e=n||Object.keys(t);for(var r in e)if(Object.hasOwnProperty.call(t,e[r]))return!1;return!0},o=function(t){return document.createTextNode(t)},s=function(t){var n=document.createElement(\"span\");return t&&(n.className=t),n},l=function(t,n,e){var r=document.createElement(\"a\");return n&&(r.className=n),r.appendChild(o(t)),r.href=\"#\",r.onclick=function(t){return e(),t&&t.stopPropagation(),!1},r};function a(i,c,u,p,y){var _=u?\"\":c,f=function(r,a,i,c,u){var f,g=s(c),h=function(){f||n(g.parentNode,f=e(u(),l(y.hide,\"disclosure\",(function(){f.style.display=\"none\",g.style.display=\"inline\"})))),f.style.display=\"inline\",g.style.display=\"none\"};n(g,l(y.show,\"disclosure\",h),t(c+\" syntax\",r),l(a,null,h),t(c+\" syntax\",i));var d=n(s(),o(_.slice(0,-1)),g);return p>0&&\"string\"!=c&&h(),d};return null===i?t(null,_,\"keyword\",\"null\"):void 0===i?t(null,_,\"keyword\",\"undefined\"):\"string\"==typeof i&&i.length>y.max_string_length?f('\"',i.substr(0,y.max_string_length)+\" ...\",'\"',\"string\",(function(){return n(s(\"string\"),t(null,_,\"string\",JSON.stringify(i)))})):\"object\"!=typeof i||[Number,String,Boolean,Date].indexOf(i.constructor)>=0?t(null,_,typeof i,JSON.stringify(i)):i.constructor==Array?0==i.length?t(null,_,\"array syntax\",\"[]\"):f(\"[\",y.collapse_msg(i.length),\"]\",\"array\",(function(){for(var e=n(s(\"array\"),t(\"array syntax\",\"[\",null,\"\\n\")),r=0;r<i.length;r++)n(e,a(y.replacer.call(i,r,i[r]),c+\"    \",!1,p-1,y),r!=i.length-1?t(\"syntax\",\",\"):[],o(\"\\n\"));return n(e,t(null,c,\"array syntax\",\"]\")),e})):r(i,y.property_list)?t(null,_,\"object syntax\",\"{}\"):f(\"{\",y.collapse_msg(Object.keys(i).length),\"}\",\"object\",(function(){var e=n(s(\"object\"),t(\"object syntax\",\"{\",null,\"\\n\"));for(var r in i)var l=r;var u=y.property_list||Object.keys(i);for(var _ in y.sort_objects&&(u=u.sort()),u){(r=u[_])in i&&n(e,t(null,c+\"    \",\"key\",'\"'+r+'\"',\"object syntax\",\": \"),a(y.replacer.call(i,r,i[r]),c+\"    \",!0,p-1,y),r!=l?t(\"syntax\",\",\"):[],o(\"\\n\"))}return n(e,t(null,c,\"object syntax\",\"}\")),e}))}var i=function t(e){var r=new Object(t.options);r.replacer=\"function\"==typeof r.replacer?r.replacer:function(t,n){return n};var o=n(document.createElement(\"pre\"),a(e,\"\",!1,r.show_to_level,r));return o.className=\"renderjson\",o};return i.set_icons=function(t,n){return i.options.show=t,i.options.hide=n,i},i.set_show_to_level=function(t){return i.options.show_to_level=\"string\"==typeof t&&\"all\"===t.toLowerCase()?Number.MAX_VALUE:t,i},i.set_max_string_length=function(t){return i.options.max_string_length=\"string\"==typeof t&&\"none\"===t.toLowerCase()?Number.MAX_VALUE:t,i},i.set_sort_objects=function(t){return i.options.sort_objects=t,i},i.set_replacer=function(t){return i.options.replacer=t,i},i.set_collapse_msg=function(t){return i.options.collapse_msg=t,i},i.set_property_list=function(t){return i.options.property_list=t,i},i.set_show_by_default=function(t){return i.options.show_to_level=t?Number.MAX_VALUE:0,i},i.options={},i.set_icons(\"⊕\",\"⊖\"),i.set_show_by_default(!1),i.set_sort_objects(!1),i.set_max_string_length(\"none\"),i.set_replacer(void 0),i.set_property_list(void 0),i.set_collapse_msg((function(t){return t+\" item\"+(1==t?\"\":\"s\")})),i}(); renderjson.set_show_to_level(4); document.getElementById(\"ea438825-910c-458a-9a49-a4214f7b6a9b\").appendChild(renderjson({\"message\": \"Email sent successfully\"}))</script>"
      ],
      "text/plain": [
       "<IPython.core.display.HTML object>"
      ]
     },
     "metadata": {},
     "output_type": "display_data"
    },
    {
     "data": {
      "application/mercury+json": "{\n    \"widget\": \"APIResponse\",\n    \"value\": \"{\\\"message\\\": \\\"Email sent successfully\\\"}\",\n    \"model_id\": \"APIResponse.0.50.27.1-rand94042095\",\n    \"code_uid\": \"APIResponse.0.50.27.1-rand94042095\"\n}",
      "text/plain": [
       "API Response"
      ]
     },
     "metadata": {},
     "output_type": "display_data"
    }
   ],
   "source": [
    "response = mr.APIResponse({\"message\": \"Email sent successfully\"})"
   ]
  },
  {
   "cell_type": "code",
   "execution_count": null,
   "id": "8442f549-5334-485f-b3b4-fb592ed55dd3",
   "metadata": {},
   "outputs": [],
   "source": []
  }
 ],
 "metadata": {
  "kernelspec": {
   "display_name": "mdemo",
   "language": "python",
   "name": "mdemo"
  },
  "language_info": {
   "codemirror_mode": {
    "name": "ipython",
    "version": 3
   },
   "file_extension": ".py",
   "mimetype": "text/x-python",
   "name": "python",
   "nbconvert_exporter": "python",
   "pygments_lexer": "ipython3",
   "version": "3.8.10"
  }
 },
 "nbformat": 4,
 "nbformat_minor": 5
}
