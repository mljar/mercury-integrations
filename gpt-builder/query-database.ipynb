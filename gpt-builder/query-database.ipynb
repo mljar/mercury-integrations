{
 "cells": [
  {
   "cell_type": "code",
   "execution_count": 1,
   "id": "772e0bc8-8e8c-4ed9-b21e-0b196aa100a9",
   "metadata": {},
   "outputs": [],
   "source": [
    "import os\n",
    "import psycopg2\n",
    "import pandas as pd\n",
    "from psycopg2.extras import RealDictCursor\n",
    "from dotenv import load_dotenv\n",
    "import mercury as mr"
   ]
  },
  {
   "cell_type": "code",
   "execution_count": 2,
   "id": "d7b2b724-b943-4f1d-8a18-d0281db794a1",
   "metadata": {},
   "outputs": [],
   "source": [
    "_ = load_dotenv()"
   ]
  },
  {
   "cell_type": "code",
   "execution_count": 3,
   "id": "3a4f2202-98d9-4cf7-b222-a7ee66d3781e",
   "metadata": {},
   "outputs": [],
   "source": [
    "def db_engine():\n",
    "    host = os.environ.get(\"DB_HOST\")\n",
    "    port = os.environ.get(\"DB_PORT\")\n",
    "    user = os.environ.get(\"DB_USERNAME\")\n",
    "    password = os.environ.get(\"DB_PASSWORD\")\n",
    "    db = os.environ.get(\"DB_DATABASE\")\n",
    "    return f\"user='{user}' password='{password}' host='{host}' port='{port}' dbname='{db}'\""
   ]
  },
  {
   "cell_type": "code",
   "execution_count": 4,
   "id": "37b464ca-75b7-4f9f-8e35-a9415a9b4e7d",
   "metadata": {},
   "outputs": [
    {
     "data": {
      "application/mercury+json": "{\n    \"widget\": \"Text\",\n    \"value\": \"select 1\",\n    \"sanitize\": false,\n    \"rows\": 1,\n    \"label\": \"SQL query\",\n    \"model_id\": \"01cc3f274a8b460dabe988d3c2b6b0cc\",\n    \"code_uid\": \"Text.0.50.78.1.query-rand33709a3a\",\n    \"url_key\": \"query\",\n    \"disabled\": false,\n    \"hidden\": false\n}",
      "application/vnd.jupyter.widget-view+json": {
       "model_id": "01cc3f274a8b460dabe988d3c2b6b0cc",
       "version_major": 2,
       "version_minor": 0
      },
      "text/plain": [
       "mercury.Text"
      ]
     },
     "metadata": {},
     "output_type": "display_data"
    }
   ],
   "source": [
    "sql = mr.Text(label=\"SQL query\", value=\"select 1\", sanitize=False, url_key=\"query\")"
   ]
  },
  {
   "cell_type": "code",
   "execution_count": 5,
   "id": "a4fce47a-fd87-4e54-b176-78b2b842b14b",
   "metadata": {},
   "outputs": [],
   "source": [
    "try:\n",
    "    with  psycopg2.connect(db_engine()) as conn:\n",
    "        with  conn.cursor(cursor_factory=RealDictCursor) as cur:\n",
    "            cur.execute(sql.value)             \n",
    "            rows = cur.fetchall()\n",
    "except (Exception, psycopg2.DatabaseError) as error:\n",
    "    print(error)  "
   ]
  },
  {
   "cell_type": "code",
   "execution_count": 6,
   "id": "a5c87ad1-d2bc-4685-b9d3-06f381d8e373",
   "metadata": {},
   "outputs": [],
   "source": [
    "md = pd.DataFrame(rows).to_markdown()"
   ]
  },
  {
   "cell_type": "code",
   "execution_count": 7,
   "id": "4471c801-fba3-481d-97ef-6be06447ca2c",
   "metadata": {},
   "outputs": [
    {
     "data": {
      "text/markdown": [
       "|    |   ?column? |\n",
       "|---:|-----------:|\n",
       "|  0 |          1 |"
      ],
      "text/plain": [
       "<IPython.core.display.Markdown object>"
      ]
     },
     "metadata": {},
     "output_type": "display_data"
    }
   ],
   "source": [
    "mr.Md(md)"
   ]
  },
  {
   "cell_type": "code",
   "execution_count": 8,
   "id": "55fe6946-f1a4-4696-b29e-f141fb23fd2e",
   "metadata": {},
   "outputs": [
    {
     "data": {
      "text/html": [
       "<style>.renderjson a              { text-decoration: none; }\n",
       ".renderjson .disclosure    { color: grey; font-size: 125%; }\n",
       ".renderjson .syntax        { color: grey; }\n",
       ".renderjson .string        { color: #fe46a5; }\n",
       ".renderjson .number        { color: #0f9b8e; }\n",
       ".renderjson .boolean       { color: black; }\n",
       ".renderjson .key           { color: #2684ff; }\n",
       ".renderjson .keyword       { color: gray; }\n",
       ".renderjson .object.syntax { color: gray; }\n",
       ".renderjson .array.syntax  { color: gray; }</style><div id=\"79b1fd7d-ceb9-40bd-80f4-c151eb12beb7\"></div>"
      ],
      "text/plain": [
       "<IPython.core.display.HTML object>"
      ]
     },
     "metadata": {},
     "output_type": "display_data"
    },
    {
     "data": {
      "text/html": [
       "<script>var renderjson=function(){var t=function(){for(var t=[];arguments.length;)t.push(n(s(Array.prototype.shift.call(arguments)),o(Array.prototype.shift.call(arguments))));return t},n=function(){for(var t=Array.prototype.shift.call(arguments),e=0;e<arguments.length;e++)arguments[e].constructor==Array?n.apply(this,[t].concat(arguments[e])):t.appendChild(arguments[e]);return t},e=function(t,n){return t.insertBefore(n,t.firstChild),t},r=function(t,n){var e=n||Object.keys(t);for(var r in e)if(Object.hasOwnProperty.call(t,e[r]))return!1;return!0},o=function(t){return document.createTextNode(t)},s=function(t){var n=document.createElement(\"span\");return t&&(n.className=t),n},l=function(t,n,e){var r=document.createElement(\"a\");return n&&(r.className=n),r.appendChild(o(t)),r.href=\"#\",r.onclick=function(t){return e(),t&&t.stopPropagation(),!1},r};function a(i,c,u,p,y){var _=u?\"\":c,f=function(r,a,i,c,u){var f,g=s(c),h=function(){f||n(g.parentNode,f=e(u(),l(y.hide,\"disclosure\",(function(){f.style.display=\"none\",g.style.display=\"inline\"})))),f.style.display=\"inline\",g.style.display=\"none\"};n(g,l(y.show,\"disclosure\",h),t(c+\" syntax\",r),l(a,null,h),t(c+\" syntax\",i));var d=n(s(),o(_.slice(0,-1)),g);return p>0&&\"string\"!=c&&h(),d};return null===i?t(null,_,\"keyword\",\"null\"):void 0===i?t(null,_,\"keyword\",\"undefined\"):\"string\"==typeof i&&i.length>y.max_string_length?f('\"',i.substr(0,y.max_string_length)+\" ...\",'\"',\"string\",(function(){return n(s(\"string\"),t(null,_,\"string\",JSON.stringify(i)))})):\"object\"!=typeof i||[Number,String,Boolean,Date].indexOf(i.constructor)>=0?t(null,_,typeof i,JSON.stringify(i)):i.constructor==Array?0==i.length?t(null,_,\"array syntax\",\"[]\"):f(\"[\",y.collapse_msg(i.length),\"]\",\"array\",(function(){for(var e=n(s(\"array\"),t(\"array syntax\",\"[\",null,\"\\n\")),r=0;r<i.length;r++)n(e,a(y.replacer.call(i,r,i[r]),c+\"    \",!1,p-1,y),r!=i.length-1?t(\"syntax\",\",\"):[],o(\"\\n\"));return n(e,t(null,c,\"array syntax\",\"]\")),e})):r(i,y.property_list)?t(null,_,\"object syntax\",\"{}\"):f(\"{\",y.collapse_msg(Object.keys(i).length),\"}\",\"object\",(function(){var e=n(s(\"object\"),t(\"object syntax\",\"{\",null,\"\\n\"));for(var r in i)var l=r;var u=y.property_list||Object.keys(i);for(var _ in y.sort_objects&&(u=u.sort()),u){(r=u[_])in i&&n(e,t(null,c+\"    \",\"key\",'\"'+r+'\"',\"object syntax\",\": \"),a(y.replacer.call(i,r,i[r]),c+\"    \",!0,p-1,y),r!=l?t(\"syntax\",\",\"):[],o(\"\\n\"))}return n(e,t(null,c,\"object syntax\",\"}\")),e}))}var i=function t(e){var r=new Object(t.options);r.replacer=\"function\"==typeof r.replacer?r.replacer:function(t,n){return n};var o=n(document.createElement(\"pre\"),a(e,\"\",!1,r.show_to_level,r));return o.className=\"renderjson\",o};return i.set_icons=function(t,n){return i.options.show=t,i.options.hide=n,i},i.set_show_to_level=function(t){return i.options.show_to_level=\"string\"==typeof t&&\"all\"===t.toLowerCase()?Number.MAX_VALUE:t,i},i.set_max_string_length=function(t){return i.options.max_string_length=\"string\"==typeof t&&\"none\"===t.toLowerCase()?Number.MAX_VALUE:t,i},i.set_sort_objects=function(t){return i.options.sort_objects=t,i},i.set_replacer=function(t){return i.options.replacer=t,i},i.set_collapse_msg=function(t){return i.options.collapse_msg=t,i},i.set_property_list=function(t){return i.options.property_list=t,i},i.set_show_by_default=function(t){return i.options.show_to_level=t?Number.MAX_VALUE:0,i},i.options={},i.set_icons(\"⊕\",\"⊖\"),i.set_show_by_default(!1),i.set_sort_objects(!1),i.set_max_string_length(\"none\"),i.set_replacer(void 0),i.set_property_list(void 0),i.set_collapse_msg((function(t){return t+\" item\"+(1==t?\"\":\"s\")})),i}(); renderjson.set_show_to_level(4); document.getElementById(\"79b1fd7d-ceb9-40bd-80f4-c151eb12beb7\").appendChild(renderjson({\"result\": \"|    |   ?column? |\\n|---:|-----------:|\\n|  0 |          1 |\"}))</script>"
      ],
      "text/plain": [
       "<IPython.core.display.HTML object>"
      ]
     },
     "metadata": {},
     "output_type": "display_data"
    },
    {
     "data": {
      "application/mercury+json": "{\n    \"widget\": \"APIResponse\",\n    \"value\": \"{\\\"result\\\": \\\"|    |   ?column? |\\\\n|---:|-----------:|\\\\n|  0 |          1 |\\\"}\",\n    \"model_id\": \"APIResponse.0.50.27.1-rand1fbda7e2\",\n    \"code_uid\": \"APIResponse.0.50.27.1-rand1fbda7e2\"\n}",
      "text/plain": [
       "API Response"
      ]
     },
     "metadata": {},
     "output_type": "display_data"
    }
   ],
   "source": [
    "response = mr.APIResponse({\"result\": md})"
   ]
  },
  {
   "cell_type": "code",
   "execution_count": null,
   "id": "f69dba7a-57da-4f6b-ab2e-a1a4b5512b25",
   "metadata": {},
   "outputs": [],
   "source": []
  }
 ],
 "metadata": {
  "kernelspec": {
   "display_name": "mdemo",
   "language": "python",
   "name": "mdemo"
  },
  "language_info": {
   "codemirror_mode": {
    "name": "ipython",
    "version": 3
   },
   "file_extension": ".py",
   "mimetype": "text/x-python",
   "name": "python",
   "nbconvert_exporter": "python",
   "pygments_lexer": "ipython3",
   "version": "3.8.10"
  }
 },
 "nbformat": 4,
 "nbformat_minor": 5
}
