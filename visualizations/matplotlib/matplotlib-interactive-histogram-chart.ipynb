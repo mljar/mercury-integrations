{
 "cells": [
  {
   "cell_type": "code",
   "execution_count": 1,
   "id": "e074ff3e-20e9-4231-990c-5d3590bfe83f",
   "metadata": {},
   "outputs": [],
   "source": [
    "# import packages\n",
    "import matplotlib.pyplot as plt\n",
    "import mercury as mr\n",
    "import random"
   ]
  },
  {
   "cell_type": "code",
   "execution_count": 2,
   "id": "e88b25a9-f89e-4740-a2ef-498d3562d5b4",
   "metadata": {},
   "outputs": [
    {
     "data": {
      "application/mercury+json": "{\n    \"widget\": \"Select\",\n    \"value\": \"blue\",\n    \"choices\": [\n        \"blue\",\n        \"green\",\n        \"red\"\n    ],\n    \"label\": \"\",\n    \"model_id\": \"a75b19137394478cbea905c740a5268d\",\n    \"code_uid\": \"Select.0.40.16.2-rand6fd23686\",\n    \"url_key\": \"\",\n    \"disabled\": false,\n    \"hidden\": false\n}",
      "application/vnd.jupyter.widget-view+json": {
       "model_id": "a75b19137394478cbea905c740a5268d",
       "version_major": 2,
       "version_minor": 0
      },
      "text/plain": [
       "mercury.Select"
      ]
     },
     "metadata": {},
     "output_type": "display_data"
    }
   ],
   "source": [
    "# mercury widget \n",
    "selection = mr.Select(value=\"blue\", choices=[\"blue\",\"green\",\"red\"])"
   ]
  },
  {
   "cell_type": "code",
   "execution_count": 3,
   "id": "405e1d21-8285-419e-936c-571ad89d9ca2",
   "metadata": {},
   "outputs": [
    {
     "data": {
      "image/png": "[encoded data removed]",
      "text/plain": [
       "<Figure size 640x480 with 1 Axes>"
      ]
     },
     "metadata": {},
     "output_type": "display_data"
    }
   ],
   "source": [
    "# create data \n",
    "x = [random.gauss(0,1) for _ in range(1000)]\n",
    "\n",
    "# plot \n",
    "plt.hist(x, color=selection.value)\n",
    "plt.show()"
   ]
  }
 ],
 "metadata": {
  "kernelspec": {
   "display_name": "venv",
   "language": "python",
   "name": "venv"
  },
  "language_info": {
   "codemirror_mode": {
    "name": "ipython",
    "version": 3
   },
   "file_extension": ".py",
   "mimetype": "text/x-python",
   "name": "python",
   "nbconvert_exporter": "python",
   "pygments_lexer": "ipython3",
   "version": "3.10.12"
  }
 },
 "nbformat": 4,
 "nbformat_minor": 5
}
