{
 "cells": [
  {
   "cell_type": "code",
   "execution_count": 1,
   "id": "0601ab8e-2557-4425-a6ac-f627d06eb45c",
   "metadata": {},
   "outputs": [],
   "source": [
    "import matplotlib.pyplot as plt\n",
    "import mercury as mr"
   ]
  },
  {
   "cell_type": "code",
   "execution_count": 2,
   "id": "63da3186-3d11-43eb-b517-a3f6511091fe",
   "metadata": {
    "scrolled": true
   },
   "outputs": [
    {
     "data": {
      "application/mercury+json": "{\n    \"widget\": \"Slider\",\n    \"value\": 5,\n    \"min\": 3,\n    \"max\": 8,\n    \"step\": 1,\n    \"label\": \"How many bars?\",\n    \"model_id\": \"0e3ec3ac59ee40d58e2e9779d0cd9442\",\n    \"code_uid\": \"Slider.0.40.36.1-randdae2165d\",\n    \"url_key\": \"\",\n    \"disabled\": false,\n    \"hidden\": false\n}",
      "application/vnd.jupyter.widget-view+json": {
       "model_id": "0e3ec3ac59ee40d58e2e9779d0cd9442",
       "version_major": 2,
       "version_minor": 0
      },
      "text/plain": [
       "mercury.Slider"
      ]
     },
     "metadata": {},
     "output_type": "display_data"
    }
   ],
   "source": [
    "slider= mr.Slider(value=5, min=3, max=8, label=\"How many bars?\", step=1)"
   ]
  },
  {
   "cell_type": "code",
   "execution_count": 3,
   "id": "a404ca13-f09c-45cc-a7a7-b9f1786dc6d8",
   "metadata": {},
   "outputs": [
    {
     "data": {
      "image/png": "[encoded data removed]",
      "text/plain": [
       "<Figure size 640x480 with 1 Axes>"
      ]
     },
     "metadata": {},
     "output_type": "display_data"
    }
   ],
   "source": [
    "# create data \n",
    "all_x = [1,2,3,4,5,6,7,8]\n",
    "all_y = [3.5,4.8,5.0,8.1,1.9,3.8,2.9,7.1]\n",
    "x = all_x[0:slider.value]\n",
    "y = all_y[0:slider.value]\n",
    "\n",
    "#plot\n",
    "plt.bar(x,y)\n",
    "\n",
    "plt.show()"
   ]
  }
 ],
 "metadata": {
  "kernelspec": {
   "display_name": "venv",
   "language": "python",
   "name": "venv"
  },
  "language_info": {
   "codemirror_mode": {
    "name": "ipython",
    "version": 3
   },
   "file_extension": ".py",
   "mimetype": "text/x-python",
   "name": "python",
   "nbconvert_exporter": "python",
   "pygments_lexer": "ipython3",
   "version": "3.10.12"
  }
 },
 "nbformat": 4,
 "nbformat_minor": 5
}
