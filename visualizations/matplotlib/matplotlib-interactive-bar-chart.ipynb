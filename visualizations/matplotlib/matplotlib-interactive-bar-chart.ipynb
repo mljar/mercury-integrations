{
 "cells": [
  {
   "cell_type": "code",
   "execution_count": null,
   "id": "0601ab8e-2557-4425-a6ac-f627d06eb45c",
   "metadata": {},
   "outputs": [],
   "source": [
    "import matplotlib.pyplot as plt\n",
    "import mercury as mr"
   ]
  },
  {
   "cell_type": "code",
   "execution_count": null,
   "id": "0263c274-c209-46b6-aa5d-c3c5cea408c0",
   "metadata": {},
   "outputs": [],
   "source": [
    "app = mr.App(title=\"Interactive Bar Chart\")"
   ]
  },
  {
   "cell_type": "code",
   "execution_count": null,
   "id": "63da3186-3d11-43eb-b517-a3f6511091fe",
   "metadata": {
    "scrolled": true
   },
   "outputs": [],
   "source": [
    "slider= mr.Slider(value=5, min=3, max=8, label=\"How many bars?\", step=1)"
   ]
  },
  {
   "cell_type": "code",
   "execution_count": null,
   "id": "a404ca13-f09c-45cc-a7a7-b9f1786dc6d8",
   "metadata": {},
   "outputs": [],
   "source": [
    "# create data \n",
    "all_x = [1,2,3,4,5,6,7,8]\n",
    "all_y = [3.5,4.8,5.0,8.1,1.9,3.8,2.9,7.1]\n",
    "x = all_x[0:slider.value]\n",
    "y = all_y[0:slider.value]\n",
    "\n",
    "#plot\n",
    "plt.bar(x,y)\n",
    "\n",
    "plt.show()"
   ]
  }
 ],
 "metadata": {
  "kernelspec": {
   "display_name": "venv",
   "language": "python",
   "name": "venv"
  },
  "language_info": {
   "codemirror_mode": {
    "name": "ipython",
    "version": 3
   },
   "file_extension": ".py",
   "mimetype": "text/x-python",
   "name": "python",
   "nbconvert_exporter": "python",
   "pygments_lexer": "ipython3",
   "version": "3.10.12"
  }
 },
 "nbformat": 4,
 "nbformat_minor": 5
}
