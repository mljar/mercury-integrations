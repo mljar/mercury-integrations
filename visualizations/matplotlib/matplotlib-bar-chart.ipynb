{
 "cells": [
  {
   "cell_type": "markdown",
   "id": "6b15fa0b-d3a3-4f65-9f2f-2960f56a96e5",
   "metadata": {},
   "source": [
    "## Using only Matplotlib"
   ]
  },
  {
   "cell_type": "code",
   "execution_count": null,
   "id": "82ae333d-c3de-49c3-a685-e2bf38efd14f",
   "metadata": {},
   "outputs": [],
   "source": [
    "# import packages\n",
    "import matplotlib.pyplot as plt\n",
    "\n",
    "# create data\n",
    "x = [1,2,3,4,5]\n",
    "y = [3.5,4.8,5.0,8.1,1.9]\n",
    "\n",
    "# plot\n",
    "plt.bar(x,y)\n",
    "plt.show()"
   ]
  },
  {
   "cell_type": "markdown",
   "id": "df9a1e94-8844-4b22-83f4-1c0286d32983",
   "metadata": {},
   "source": [
    "## Using Matplotlib and Numpy"
   ]
  },
  {
   "cell_type": "code",
   "execution_count": null,
   "id": "a59c8b22-bafa-4a24-a2e3-8a1f1ea07a42",
   "metadata": {},
   "outputs": [],
   "source": [
    "# import packages\n",
    "import matplotlib.pyplot as plt\n",
    "import numpy as np\n",
    "\n",
    "# create data\n",
    "x = 1 + np.arange(8)\n",
    "y = np.array([4.8, 5.5, 3.5, 4.6, 6.5, 6.6, 2.6, 3.0])\n",
    "\n",
    "# plot\n",
    "plt.bar(x,y)\n",
    "plt.show()"
   ]
  },
  {
   "cell_type": "markdown",
   "id": "38385a02-1602-4a7c-b7a1-aa65d112dd99",
   "metadata": {},
   "source": [
    "## Using Matplotlib and Pandas"
   ]
  },
  {
   "cell_type": "code",
   "execution_count": null,
   "id": "735f6f40-b3c2-4873-9494-b9a8ef4deeee",
   "metadata": {},
   "outputs": [],
   "source": [
    "import matplotlib.pyplot as plt\n",
    "import pandas as pd\n",
    "\n",
    "# create data \n",
    "df = pd.DataFrame({'count': [1,2,3,4,5,6,7,8], 'value': [3.5,4.8,5.0,8.1,1.9,3.8,2.9,7.1]})\n",
    "\n",
    "#plot\n",
    "plt.bar(df['count'], df['value'])\n",
    "plt.show()"
   ]
  }
 ],
 "metadata": {
  "kernelspec": {
   "display_name": "venv",
   "language": "python",
   "name": "venv"
  },
  "language_info": {
   "codemirror_mode": {
    "name": "ipython",
    "version": 3
   },
   "file_extension": ".py",
   "mimetype": "text/x-python",
   "name": "python",
   "nbconvert_exporter": "python",
   "pygments_lexer": "ipython3",
   "version": "3.10.12"
  }
 },
 "nbformat": 4,
 "nbformat_minor": 5
}
