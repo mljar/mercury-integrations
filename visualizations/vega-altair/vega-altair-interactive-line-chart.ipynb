{
 "cells": [
  {
   "cell_type": "code",
   "execution_count": 1,
   "id": "c7f88658-9a17-4dcb-82d5-7531dbd6d36c",
   "metadata": {},
   "outputs": [],
   "source": [
    "# import packages\n",
    "import altair as alt \n",
    "import mercury as mr \n",
    "import pandas as pd "
   ]
  },
  {
   "cell_type": "code",
   "execution_count": 2,
   "id": "71e8e5d3-505d-475d-96f2-302fd1ed7faa",
   "metadata": {},
   "outputs": [
    {
     "data": {
      "application/mercury+json": "{\n    \"widget\": \"Checkbox\",\n    \"value\": true,\n    \"label\": \"Points\",\n    \"model_id\": \"fdc6da3274334cf5b8c335fd57df8f13\",\n    \"code_uid\": \"Checkbox.0.40.11.2-rand620c07ad\",\n    \"url_key\": \"\",\n    \"disabled\": false,\n    \"hidden\": false\n}",
      "application/vnd.jupyter.widget-view+json": {
       "model_id": "fdc6da3274334cf5b8c335fd57df8f13",
       "version_major": 2,
       "version_minor": 0
      },
      "text/plain": [
       "mercury.Checkbox"
      ]
     },
     "metadata": {},
     "output_type": "display_data"
    }
   ],
   "source": [
    "# mercury widget\n",
    "checkbox= mr.Checkbox(label=\"Points\")"
   ]
  },
  {
   "cell_type": "code",
   "execution_count": 3,
   "id": "84d09979-b781-4c80-b4cc-8dfb76981a95",
   "metadata": {},
   "outputs": [
    {
     "data": {
      "text/html": [
       "\n",
       "<style>\n",
       "  #altair-viz-0b5f6d0b586f40c38a1e03d799d6b0ae.vega-embed {\n",
       "    width: 100%;\n",
       "    display: flex;\n",
       "  }\n",
       "\n",
       "  #altair-viz-0b5f6d0b586f40c38a1e03d799d6b0ae.vega-embed details,\n",
       "  #altair-viz-0b5f6d0b586f40c38a1e03d799d6b0ae.vega-embed details summary {\n",
       "    position: relative;\n",
       "  }\n",
       "</style>\n",
       "<div id=\"altair-viz-0b5f6d0b586f40c38a1e03d799d6b0ae\"></div>\n",
       "<script type=\"text/javascript\">\n",
       "  var VEGA_DEBUG = (typeof VEGA_DEBUG == \"undefined\") ? {} : VEGA_DEBUG;\n",
       "  (function(spec, embedOpt){\n",
       "    let outputDiv = document.currentScript.previousElementSibling;\n",
       "    if (outputDiv.id !== \"altair-viz-0b5f6d0b586f40c38a1e03d799d6b0ae\") {\n",
       "      outputDiv = document.getElementById(\"altair-viz-0b5f6d0b586f40c38a1e03d799d6b0ae\");\n",
       "    }\n",
       "    const paths = {\n",
       "      \"vega\": \"https://cdn.jsdelivr.net/npm/vega@5?noext\",\n",
       "      \"vega-lib\": \"https://cdn.jsdelivr.net/npm/vega-lib?noext\",\n",
       "      \"vega-lite\": \"https://cdn.jsdelivr.net/npm/vega-lite@5.16.3?noext\",\n",
       "      \"vega-embed\": \"https://cdn.jsdelivr.net/npm/vega-embed@6?noext\",\n",
       "    };\n",
       "\n",
       "    function maybeLoadScript(lib, version) {\n",
       "      var key = `${lib.replace(\"-\", \"\")}_version`;\n",
       "      return (VEGA_DEBUG[key] == version) ?\n",
       "        Promise.resolve(paths[lib]) :\n",
       "        new Promise(function(resolve, reject) {\n",
       "          var s = document.createElement('script');\n",
       "          document.getElementsByTagName(\"head\")[0].appendChild(s);\n",
       "          s.async = true;\n",
       "          s.onload = () => {\n",
       "            VEGA_DEBUG[key] = version;\n",
       "            return resolve(paths[lib]);\n",
       "          };\n",
       "          s.onerror = () => reject(`Error loading script: ${paths[lib]}`);\n",
       "          s.src = paths[lib];\n",
       "        });\n",
       "    }\n",
       "\n",
       "    function showError(err) {\n",
       "      outputDiv.innerHTML = `<div class=\"error\" style=\"color:red;\">${err}</div>`;\n",
       "      throw err;\n",
       "    }\n",
       "\n",
       "    function displayChart(vegaEmbed) {\n",
       "      vegaEmbed(outputDiv, spec, embedOpt)\n",
       "        .catch(err => showError(`Javascript Error: ${err.message}<br>This usually means there's a typo in your chart specification. See the javascript console for the full traceback.`));\n",
       "    }\n",
       "\n",
       "    if(typeof define === \"function\" && define.amd) {\n",
       "      requirejs.config({paths});\n",
       "      require([\"vega-embed\"], displayChart, err => showError(`Error loading script: ${err.message}`));\n",
       "    } else {\n",
       "      maybeLoadScript(\"vega\", \"5\")\n",
       "        .then(() => maybeLoadScript(\"vega-lite\", \"5.16.3\"))\n",
       "        .then(() => maybeLoadScript(\"vega-embed\", \"6\"))\n",
       "        .catch(showError)\n",
       "        .then(() => displayChart(vegaEmbed));\n",
       "    }\n",
       "  })({\"config\": {\"view\": {\"continuousWidth\": 300, \"continuousHeight\": 300}}, \"data\": {\"name\": \"data-98dc865d6628d05a20db49926a99934f\"}, \"mark\": {\"type\": \"line\", \"point\": {\"color\": \"red\"}}, \"encoding\": {\"x\": {\"field\": \"x\", \"type\": \"quantitative\"}, \"y\": {\"field\": \"y\", \"type\": \"quantitative\"}}, \"width\": 500, \"$schema\": \"https://vega.github.io/schema/vega-lite/v5.16.3.json\", \"datasets\": {\"data-98dc865d6628d05a20db49926a99934f\": [{\"x\": 1, \"y\": 9}, {\"x\": 2, \"y\": 22}, {\"x\": 3, \"y\": 7}, {\"x\": 4, \"y\": 4}, {\"x\": 5, \"y\": 17}, {\"x\": 6, \"y\": 10}, {\"x\": 7, \"y\": 28}, {\"x\": 8, \"y\": 15}, {\"x\": 9, \"y\": 20}, {\"x\": 10, \"y\": 26}, {\"x\": 11, \"y\": 27}, {\"x\": 12, \"y\": 16}, {\"x\": 13, \"y\": 28}, {\"x\": 14, \"y\": 27}, {\"x\": 15, \"y\": 11}, {\"x\": 16, \"y\": 12}, {\"x\": 17, \"y\": 25}, {\"x\": 18, \"y\": 29}, {\"x\": 19, \"y\": 27}, {\"x\": 20, \"y\": 9}]}}, {\"mode\": \"vega-lite\"});\n",
       "</script>"
      ],
      "text/plain": [
       "alt.Chart(...)"
      ]
     },
     "execution_count": 3,
     "metadata": {},
     "output_type": "execute_result"
    }
   ],
   "source": [
    "# create data \n",
    "df = pd.DataFrame({\n",
    "    'x': [1, 2, 3, 4, 5, 6, 7, 8, 9, 10, 11, 12, 13, 14, 15, 16, 17, 18, 19, 20],\n",
    "    'y': [9,22,7,4,17,10,28,15,20,26,27,16,28,27,11,12,25,29,27,9]\n",
    "})\n",
    "point=alt.OverlayMarkDef(color=\"red\") if checkbox.value else False\n",
    "\n",
    "# plot \n",
    "alt.Chart(df).mark_line(\n",
    "    point=point\n",
    ").encode(\n",
    "    x='x',\n",
    "    y='y'\n",
    ").properties(\n",
    "    width=500\n",
    ")"
   ]
  }
 ],
 "metadata": {
  "kernelspec": {
   "display_name": "venv",
   "language": "python",
   "name": "venv"
  },
  "language_info": {
   "codemirror_mode": {
    "name": "ipython",
    "version": 3
   },
   "file_extension": ".py",
   "mimetype": "text/x-python",
   "name": "python",
   "nbconvert_exporter": "python",
   "pygments_lexer": "ipython3",
   "version": "3.10.12"
  }
 },
 "nbformat": 4,
 "nbformat_minor": 5
}
