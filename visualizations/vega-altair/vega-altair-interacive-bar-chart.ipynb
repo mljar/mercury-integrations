{
 "cells": [
  {
   "cell_type": "code",
   "execution_count": 1,
   "id": "afa05aef-d7c9-448e-a53e-a9289542f333",
   "metadata": {},
   "outputs": [],
   "source": [
    "# import packages \n",
    "import altair as alt \n",
    "import mercury as mr \n",
    "import pandas as pd"
   ]
  },
  {
   "cell_type": "code",
   "execution_count": 2,
   "id": "59face64-835e-4f4f-b49b-18c3ef49631f",
   "metadata": {},
   "outputs": [
    {
     "data": {
      "application/mercury+json": "{\n    \"widget\": \"Text\",\n    \"value\": \"\",\n    \"rows\": 1,\n    \"label\": \"Set chart title:\",\n    \"model_id\": \"6eddb893d895415987832075acda6550\",\n    \"code_uid\": \"Text.0.40.15.2-randdbbaff08\",\n    \"url_key\": \"\",\n    \"disabled\": false,\n    \"hidden\": false\n}",
      "application/vnd.jupyter.widget-view+json": {
       "model_id": "6eddb893d895415987832075acda6550",
       "version_major": 2,
       "version_minor": 0
      },
      "text/plain": [
       "mercury.Text"
      ]
     },
     "metadata": {},
     "output_type": "display_data"
    }
   ],
   "source": [
    "# mercury widget \n",
    "text = mr.Text(value=\"\", label=\"Set chart title:\")"
   ]
  },
  {
   "cell_type": "code",
   "execution_count": 3,
   "id": "be9e9270-7ff6-4543-a282-eeed043a939a",
   "metadata": {},
   "outputs": [
    {
     "data": {
      "text/html": [
       "\n",
       "<style>\n",
       "  #altair-viz-9c3eb33eb0e54265b2dbfc767e97777c.vega-embed {\n",
       "    width: 100%;\n",
       "    display: flex;\n",
       "  }\n",
       "\n",
       "  #altair-viz-9c3eb33eb0e54265b2dbfc767e97777c.vega-embed details,\n",
       "  #altair-viz-9c3eb33eb0e54265b2dbfc767e97777c.vega-embed details summary {\n",
       "    position: relative;\n",
       "  }\n",
       "</style>\n",
       "<div id=\"altair-viz-9c3eb33eb0e54265b2dbfc767e97777c\"></div>\n",
       "<script type=\"text/javascript\">\n",
       "  var VEGA_DEBUG = (typeof VEGA_DEBUG == \"undefined\") ? {} : VEGA_DEBUG;\n",
       "  (function(spec, embedOpt){\n",
       "    let outputDiv = document.currentScript.previousElementSibling;\n",
       "    if (outputDiv.id !== \"altair-viz-9c3eb33eb0e54265b2dbfc767e97777c\") {\n",
       "      outputDiv = document.getElementById(\"altair-viz-9c3eb33eb0e54265b2dbfc767e97777c\");\n",
       "    }\n",
       "    const paths = {\n",
       "      \"vega\": \"https://cdn.jsdelivr.net/npm/vega@5?noext\",\n",
       "      \"vega-lib\": \"https://cdn.jsdelivr.net/npm/vega-lib?noext\",\n",
       "      \"vega-lite\": \"https://cdn.jsdelivr.net/npm/vega-lite@5.16.3?noext\",\n",
       "      \"vega-embed\": \"https://cdn.jsdelivr.net/npm/vega-embed@6?noext\",\n",
       "    };\n",
       "\n",
       "    function maybeLoadScript(lib, version) {\n",
       "      var key = `${lib.replace(\"-\", \"\")}_version`;\n",
       "      return (VEGA_DEBUG[key] == version) ?\n",
       "        Promise.resolve(paths[lib]) :\n",
       "        new Promise(function(resolve, reject) {\n",
       "          var s = document.createElement('script');\n",
       "          document.getElementsByTagName(\"head\")[0].appendChild(s);\n",
       "          s.async = true;\n",
       "          s.onload = () => {\n",
       "            VEGA_DEBUG[key] = version;\n",
       "            return resolve(paths[lib]);\n",
       "          };\n",
       "          s.onerror = () => reject(`Error loading script: ${paths[lib]}`);\n",
       "          s.src = paths[lib];\n",
       "        });\n",
       "    }\n",
       "\n",
       "    function showError(err) {\n",
       "      outputDiv.innerHTML = `<div class=\"error\" style=\"color:red;\">${err}</div>`;\n",
       "      throw err;\n",
       "    }\n",
       "\n",
       "    function displayChart(vegaEmbed) {\n",
       "      vegaEmbed(outputDiv, spec, embedOpt)\n",
       "        .catch(err => showError(`Javascript Error: ${err.message}<br>This usually means there's a typo in your chart specification. See the javascript console for the full traceback.`));\n",
       "    }\n",
       "\n",
       "    if(typeof define === \"function\" && define.amd) {\n",
       "      requirejs.config({paths});\n",
       "      require([\"vega-embed\"], displayChart, err => showError(`Error loading script: ${err.message}`));\n",
       "    } else {\n",
       "      maybeLoadScript(\"vega\", \"5\")\n",
       "        .then(() => maybeLoadScript(\"vega-lite\", \"5.16.3\"))\n",
       "        .then(() => maybeLoadScript(\"vega-embed\", \"6\"))\n",
       "        .catch(showError)\n",
       "        .then(() => displayChart(vegaEmbed));\n",
       "    }\n",
       "  })({\"config\": {\"view\": {\"continuousWidth\": 300, \"continuousHeight\": 300}}, \"data\": {\"name\": \"data-1377c5a58c53e193e8c925a0ea04e8cb\"}, \"mark\": {\"type\": \"bar\"}, \"encoding\": {\"x\": {\"field\": \"x\", \"type\": \"nominal\"}, \"y\": {\"field\": \"y\", \"type\": \"quantitative\"}}, \"title\": \"\", \"width\": 500, \"$schema\": \"https://vega.github.io/schema/vega-lite/v5.16.3.json\", \"datasets\": {\"data-1377c5a58c53e193e8c925a0ea04e8cb\": [{\"x\": \"A\", \"y\": 4}, {\"x\": \"B\", \"y\": 6}, {\"x\": \"C\", \"y\": 11}, {\"x\": \"D\", \"y\": 13}, {\"x\": \"E\", \"y\": 7}, {\"x\": \"F\", \"y\": 10}, {\"x\": \"G\", \"y\": 24}, {\"x\": \"H\", \"y\": 19}, {\"x\": \"I\", \"y\": 12}, {\"x\": \"J\", \"y\": 8}, {\"x\": \"K\", \"y\": 17}]}}, {\"mode\": \"vega-lite\"});\n",
       "</script>"
      ],
      "text/plain": [
       "alt.Chart(...)"
      ]
     },
     "execution_count": 3,
     "metadata": {},
     "output_type": "execute_result"
    }
   ],
   "source": [
    "# create data\n",
    "df = pd.DataFrame({\n",
    "    'x': ['A','B','C','D','E','F','G','H','I','J','K'],\n",
    "    'y': [4, 6, 11, 13, 7, 10, 24, 19, 12, 8, 17]\n",
    "})\n",
    "\n",
    "# plot \n",
    "alt.Chart(df,title=text.value).mark_bar().encode(\n",
    "    x='x',\n",
    "    y='y'\n",
    ").properties(\n",
    "        width=500\n",
    "    )"
   ]
  }
 ],
 "metadata": {
  "kernelspec": {
   "display_name": "venv",
   "language": "python",
   "name": "venv"
  },
  "language_info": {
   "codemirror_mode": {
    "name": "ipython",
    "version": 3
   },
   "file_extension": ".py",
   "mimetype": "text/x-python",
   "name": "python",
   "nbconvert_exporter": "python",
   "pygments_lexer": "ipython3",
   "version": "3.10.12"
  }
 },
 "nbformat": 4,
 "nbformat_minor": 5
}
