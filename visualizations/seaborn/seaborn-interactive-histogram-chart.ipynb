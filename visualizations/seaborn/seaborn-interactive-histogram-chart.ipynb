{
 "cells": [
  {
   "cell_type": "code",
   "execution_count": 1,
   "id": "0a327499-ea2f-4e06-a2b6-53d16bf4729e",
   "metadata": {},
   "outputs": [],
   "source": [
    "# import packages \n",
    "import seaborn as sns\n",
    "import mercury as mr "
   ]
  },
  {
   "cell_type": "code",
   "execution_count": 2,
   "id": "a0e33ac0-58e4-4bae-bce0-6986f0c45ff9",
   "metadata": {},
   "outputs": [
    {
     "data": {
      "application/mercury+json": "{\n    \"widget\": \"Checkbox\",\n    \"value\": true,\n    \"label\": \"Filling\",\n    \"model_id\": \"d46eb6939e1d4c89a724945f45fe26f2\",\n    \"code_uid\": \"Checkbox.0.40.11.2-rand0b794b9b\",\n    \"url_key\": \"\",\n    \"disabled\": false,\n    \"hidden\": false\n}",
      "application/vnd.jupyter.widget-view+json": {
       "model_id": "d46eb6939e1d4c89a724945f45fe26f2",
       "version_major": 2,
       "version_minor": 0
      },
      "text/plain": [
       "mercury.Checkbox"
      ]
     },
     "metadata": {},
     "output_type": "display_data"
    }
   ],
   "source": [
    "# mercury widget \n",
    "checkbox = mr.Checkbox(label=\"Filling\")"
   ]
  },
  {
   "cell_type": "code",
   "execution_count": 3,
   "id": "e5df7323-370b-42f2-9c1a-5e39ae12df25",
   "metadata": {},
   "outputs": [
    {
     "data": {
      "image/png": "[encoded data removed]",
      "text/plain": [
       "<Figure size 640x480 with 1 Axes>"
      ]
     },
     "metadata": {},
     "output_type": "display_data"
    }
   ],
   "source": [
    "# create data \n",
    "x = [49, 1, 33, 13, 46, 28, 1, 30, 48, 7, 8, 7, 34, 23, 39, 47, 9, 8, 12, 30]\n",
    "fill = True if checkbox.value else False\n",
    "\n",
    "# plot \n",
    "_ = sns.histplot(x, fill=fill)"
   ]
  }
 ],
 "metadata": {
  "kernelspec": {
   "display_name": "venv",
   "language": "python",
   "name": "venv"
  },
  "language_info": {
   "codemirror_mode": {
    "name": "ipython",
    "version": 3
   },
   "file_extension": ".py",
   "mimetype": "text/x-python",
   "name": "python",
   "nbconvert_exporter": "python",
   "pygments_lexer": "ipython3",
   "version": "3.10.12"
  }
 },
 "nbformat": 4,
 "nbformat_minor": 5
}
