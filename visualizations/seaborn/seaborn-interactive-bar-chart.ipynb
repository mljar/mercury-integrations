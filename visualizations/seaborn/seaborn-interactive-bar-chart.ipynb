{
 "cells": [
  {
   "cell_type": "code",
   "execution_count": 1,
   "id": "6cb57327-6e2c-4d4e-985d-510bb62b2589",
   "metadata": {},
   "outputs": [],
   "source": [
    "# import packages \n",
    "import seaborn as sns \n",
    "import mercury as mr "
   ]
  },
  {
   "cell_type": "code",
   "execution_count": 2,
   "id": "90ab1315-d7b0-49ba-94c3-79748b9004da",
   "metadata": {},
   "outputs": [
    {
     "data": {
      "application/mercury+json": "{\n    \"widget\": \"Numeric\",\n    \"value\": 5.0,\n    \"min\": 4.0,\n    \"max\": 10.0,\n    \"step\": 1.0,\n    \"label\": \"How many bars?\",\n    \"model_id\": \"0d69bff82e144d94afb10fcfe562a536\",\n    \"code_uid\": \"Numeric.0.40.26.2-rand8356ea52\",\n    \"url_key\": \"\",\n    \"disabled\": false,\n    \"hidden\": false\n}",
      "application/vnd.jupyter.widget-view+json": {
       "model_id": "0d69bff82e144d94afb10fcfe562a536",
       "version_major": 2,
       "version_minor": 0
      },
      "text/plain": [
       "mercury.Numeric"
      ]
     },
     "metadata": {},
     "output_type": "display_data"
    }
   ],
   "source": [
    "# mercury widget\n",
    "number = mr.Numeric(value=5, min=4, max=10, label=\"How many bars?\", step=1)"
   ]
  },
  {
   "cell_type": "code",
   "execution_count": 3,
   "id": "95b4ce07-319f-4e48-bac6-42b0a8b690ea",
   "metadata": {},
   "outputs": [
    {
     "data": {
      "image/png": "[encoded data removed]",
      "text/plain": [
       "<Figure size 640x480 with 1 Axes>"
      ]
     },
     "metadata": {},
     "output_type": "display_data"
    }
   ],
   "source": [
    "# create data \n",
    "all_y = [7, 10, 1, 3, 8, 5, 7, 9, 3, 2]\n",
    "y = all_y[0:int(number.value)]\n",
    "\n",
    "# plot \n",
    "_ = sns.barplot(y)"
   ]
  }
 ],
 "metadata": {
  "kernelspec": {
   "display_name": "venv",
   "language": "python",
   "name": "venv"
  },
  "language_info": {
   "codemirror_mode": {
    "name": "ipython",
    "version": 3
   },
   "file_extension": ".py",
   "mimetype": "text/x-python",
   "name": "python",
   "nbconvert_exporter": "python",
   "pygments_lexer": "ipython3",
   "version": "3.10.12"
  }
 },
 "nbformat": 4,
 "nbformat_minor": 5
}
